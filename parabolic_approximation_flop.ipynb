{
 "cells": [
  {
   "cell_type": "code",
   "execution_count": 1,
   "metadata": {},
   "outputs": [
    {
     "name": "stderr",
     "output_type": "stream",
     "text": [
      "/home/kiran/.local/lib/python3.6/site-packages/pysynphot/locations.py:346: UserWarning: Extinction files not found in /home/kiran/kurucz_models/grp/hst/cdbs/extinction\n",
      "  warnings.warn('Extinction files not found in %s' % (extdir, ))\n",
      "/home/kiran/.local/lib/python3.6/site-packages/pysynphot/refs.py:118: UserWarning: No graph or component tables found; functionality will be SEVERELY crippled. No files found for /home/kiran/kurucz_models/grp/hst/cdbs/mtab/*_tmg.fits\n",
      "  'functionality will be SEVERELY crippled. ' + str(e))\n",
      "/home/kiran/.local/lib/python3.6/site-packages/pysynphot/refs.py:125: UserWarning: No thermal tables found, no thermal calculations can be performed. No files found for /home/kiran/kurucz_models/grp/hst/cdbs/mtab/*_tmt.fits\n",
      "  'no thermal calculations can be performed. ' + str(e))\n"
     ]
    }
   ],
   "source": [
    "import os\n",
    "os.system('export PYSYN_CDBS=/home/kiran/kurucz_models/grp/hst/cdbs/')\n",
    "# or\n",
    "# export PYSYN_CDBS=/media/kiran/New Volume/SEM_6/Internship/kurucz_models/grp/hst/cdbs/\n",
    "# Run the above line in the command prompt before using this code ... open terminal in folder kurucz_models and type this\n",
    "\n",
    "import numpy as np\n",
    "import matplotlib.pyplot as plt\n",
    "import time\n",
    "from astropy.io import fits\n",
    "#import spectres\n",
    "from scipy.stats import chisquare\n",
    "from scipy import stats\n",
    "from astropy import units as u\n",
    "from astropy import constants as const\n",
    "import pysynphot as S\n",
    "import spectres\n",
    "import csv\n",
    "import scipy.integrate as integrate"
   ]
  },
  {
   "cell_type": "code",
   "execution_count": 2,
   "metadata": {},
   "outputs": [],
   "source": [
    "def reduced_chi_square(x,y,s,m): # ddof = v\n",
    "    v = x.size - m\n",
    "    chi2 = (np.sum((x-y)**2/s**2))/v\n",
    "    p = 1 - stats.chi2.cdf(chi2, v)\n",
    "    return chi2,p\n",
    "\n",
    "def get_photometric_flux(m_wave,interpolated_flux,F):\n",
    "    for X in list(F.keys()):\n",
    "        w = []\n",
    "        Sx = []\n",
    "        with open(\"{}_2MASS.txt\".format(X),'r') as f:\n",
    "            for line in f:\n",
    "                y = [float(i) for i in line.split()]\n",
    "                w.append(y[0]*(10**(-4))) # for converting A to um\n",
    "                Sx.append(y[1])\n",
    "        wave = np.array(list(set().union(w,m_wave)))\n",
    "        wave = np.sort(wave)\n",
    "        idx = np.where(np.logical_and(wave>=0.3000, wave<=10.0000))\n",
    "        wave = wave[idx]\n",
    "        interpolated_Sx = np.interp(wave, w, Sx)\n",
    "        interpolated_m_flux = np.interp(wave, m_wave, interpolated_flux)\n",
    "        F[X] = integrate.simps(interpolated_Sx*interpolated_m_flux, wave)/integrate.simps(interpolated_Sx, wave)\n",
    "\n",
    "    return F\n",
    "\n",
    "\n",
    "class LessPrecise(float):\n",
    "    def __repr__(self):\n",
    "        return str(self)"
   ]
  },
  {
   "cell_type": "code",
   "execution_count": 39,
   "metadata": {},
   "outputs": [],
   "source": [
    "J = [1.1,1.4]\n",
    "H = [1.5,1.8]\n",
    "Ks = [2.0,2.4]\n",
    "\n",
    "######### USER INPUTS ########\n",
    "savefig  = False\n",
    "filename = 'hd11443'\n",
    "data_dir = os.getcwd()+\"/IRTF_data_fit/\"\n",
    "form = '.txt'\n",
    "flux_error_data = True\n",
    "conversion_factor = 10**(-4)\n",
    "##############################\n",
    "\n",
    "s_wave = []\n",
    "s_flux = []\n",
    "a = np.array([])\n",
    "token = True\n",
    "with open(data_dir+filename+'/'+ filename+form,'r') as f:\n",
    "    for line in f:\n",
    "        if(len(line.split()) == 3):\n",
    "            if(a.size == 0):\n",
    "                try:\n",
    "                    a = np.array([float(i) for i in line.split()])\n",
    "                except:\n",
    "                    wave_unit, flux_unit, _ = line.split()                \n",
    "            else:\n",
    "                a = np.row_stack((a,[float(i) for i in line.split()]))\n",
    "f.close()\n",
    "m_ref = {\"J\": 0, \"H\": 0,\"KS\": 0}\n",
    "m_err_ref = {\"JERR\": 0, \"HERR\": 0,\"KSERR\": 0}\n",
    "ctr = 6\n",
    "q = 0\n",
    "with open(data_dir+filename+'/'+ filename+form,'r') as f:\n",
    "    for line in f:\n",
    "        if(ctr > 0):\n",
    "            _b = line.split()\n",
    "            if(q%2 == 0):\n",
    "                m_ref[_b[1]] = float(_b[3])\n",
    "            if(q%2 == 1):\n",
    "                m_err_ref[_b[1]] = float(_b[3])\n",
    "            q += 1\n",
    "            ctr -= 1\n",
    "f.close()\n",
    "m_ref[\"Ks\"] = m_ref.pop(\"KS\")\n",
    "#wvl, flx = pyasl.read1dFitsSpec(\"_bd+622346_20121027_735_cbuil.fits\")\n",
    "a_uv = np.copy(a)\n",
    "freq_range = [0.3,10.0]\n",
    "if(wave_unit == \"um\"):\n",
    "    while(a[0][0] <= freq_range[0]):\n",
    "        a = a[1:]\n",
    "    while(a.T[0,-1] > freq_range[1]):\n",
    "        a = a[:-2]\n",
    "else:\n",
    "    while(a[0][0] <= freq_range[0]*(10**4)):\n",
    "        a = a[1:]\n",
    "    while(a.T[0,-1] > freq_range[1]*(10**4)):\n",
    "        a = a[:-2]\n",
    "    a.T[0] *= 10**(-4)\n",
    "    a_uv.T[0] *= 10**(-4)\n",
    "\n",
    "del_arr = np.where(a.T[1]<0)\n",
    "a = np.delete(a,del_arr,0)\n",
    "del_arr = np.where(a_uv.T[1]<0)\n",
    "a_uv = np.delete(a_uv,del_arr,0)\n",
    "\n",
    "#m_flux *= np.amax(s_flux)\n",
    "s_wave = np.array(a.T[0])\n",
    "s_flux = np.array(a.T[1])#*10**(-3) # convert ergs/s/cm^2/A -> W/cm^2/um by multiplying by (10**(-7))/(10**(-4))                \n",
    "s_flux_e = np.array(a.T[2])\n",
    "s_flux = s_flux*conversion_factor # conversion factor given \n",
    "s_flux_e = s_flux_e*conversion_factor # conversion factor given \n",
    "a_uv.T[1] = a_uv.T[1]*conversion_factor\n",
    "a_uv.T[2] = a_uv.T[2]*conversion_factor\n",
    "\n",
    "best_r = 0\n",
    "best_log_g = 0\n",
    "best_teff = 0\n",
    "best_met = 0\n",
    "p = 0; # in mas\n",
    "dp = 0;\n",
    "with open(\"parallax_values.txt\",'r') as f:\n",
    "    for line in f:\n",
    "        _a,b,c = line.split()\n",
    "        if(_a == filename):\n",
    "            p = float(b)\n",
    "            dp = float(c)\n",
    "#p = 109.54 # mas\n",
    "#dp = 0.17\n",
    "\n",
    "D = 1000/p * u.parsec\n",
    "D = D.to(u.m)\n",
    "dD = (1000/p**2)*dp * u.parsec\n",
    "dD = dD.to(u.m)"
   ]
  },
  {
   "cell_type": "code",
   "execution_count": 40,
   "metadata": {},
   "outputs": [],
   "source": [
    "def get_rchi2(t,g,m,r,s_wave,s_flux,s_flux_e):\n",
    "    Md = 0\n",
    "    savefig = False\n",
    "\n",
    "    chi = np.inf\n",
    "    p = 0\n",
    "    try:\n",
    "        sp = S.Icat('ck04models', t, m, g)\n",
    "    except:\n",
    "        return None\n",
    "    m_wave = sp.wave*(10**(-4)) # converting A -> um\n",
    "    m_flux = sp.flux*(10**(-3)) # convert ergs/s/cm^2/A -> W/cm^2/um by multiplying by (10**(-7))/(10**(-4))                \n",
    "    idx = np.where(np.logical_and(m_wave>=0.3, m_wave<=10)) # considering particular frequency range                            \n",
    "    m_wave = m_wave[idx]\n",
    "    m_flux = m_flux[idx]\n",
    "\n",
    "    s_lower_lim = np.argmin(np.abs(s_wave - m_wave[0]))\n",
    "    s_upper_lim = np.argmin(np.abs(s_wave - m_wave[-1]))\n",
    "\n",
    "\n",
    "    m_lower_lim = np.argmin(np.abs(m_wave - np.round(s_wave[0])))\n",
    "    m_upper_lim = np.argmin(np.abs(m_wave - np.round(s_wave[-1])))\n",
    "\n",
    "    m_wave = m_wave[m_lower_lim:m_upper_lim+1]\n",
    "    m_flux = m_flux[m_lower_lim:m_upper_lim+1]\n",
    "    s_wave = s_wave[s_lower_lim:s_upper_lim+1]\n",
    "    s_flux = s_flux[s_lower_lim:s_upper_lim+1]\n",
    "\n",
    "    if(flux_error_data):\n",
    "        if(m_wave.size > s_wave.size):\n",
    "            s_flux_e = s_flux_e[s_lower_lim:s_upper_lim+1]\n",
    "            interpolated_flux, interpolated_flux_e = spectres.spectres(m_wave, s_wave, s_flux, s_flux_e)\n",
    "            Md = ((r*const.R_sun)/D)**2\n",
    "            interpolated_flux = interpolated_flux*Md\n",
    "            redchi2_arr.append(reduced_chi_square(s_flux,interpolated_flux,interpolated_flux_e,4)[0])\n",
    "            if(reduced_chi_square(s_flux,interpolated_flux,interpolated_flux_e,4)[0] < chi):\n",
    "                chi,p = reduced_chi_square(s_flux,interpolated_flux, interpolated_flux_e,4)\n",
    "                best_r = r\n",
    "                best_log_g = g\n",
    "                best_teff = t\n",
    "                best_met = m\n",
    "\n",
    "            s_wave = s_wave[:m_wave.size]\n",
    "            s_flux = s_flux[:m_wave.size]\n",
    "        else:\n",
    "            s_flux_e = s_flux_e[s_lower_lim:s_upper_lim+1]\n",
    "            interpolated_flux = np.interp(s_wave, m_wave, m_flux)\n",
    "            Md = ((r*const.R_sun)/D)**2\n",
    "            interpolated_flux = (interpolated_flux*Md).value\n",
    "            redchi2_arr.append(reduced_chi_square(s_flux,interpolated_flux,s_flux_e,4)[0])\n",
    "            if(reduced_chi_square(s_flux,interpolated_flux,s_flux_e,4)[0] < chi):\n",
    "                chi,p = reduced_chi_square(s_flux,interpolated_flux, s_flux_e,4)\n",
    "                best_r = r\n",
    "                best_log_g = g\n",
    "                best_teff = t\n",
    "                best_met = m\n",
    "            m_wave = s_wave\n",
    "            m_flux = interpolated_flux/Md\n",
    "    else:\n",
    "        if(s_wave.size > m_wave.size):\n",
    "            interpolated_flux = np.interp(s_wave, m_wave, m_flux)\n",
    "            Md = ((r*const.R_sun)/D)**2\n",
    "            interpolated_flux = interpolated_flux*Md\n",
    "\n",
    "            if(chisquare(s_flux,interpolated_flux)[0] < chi):\n",
    "                chi,p = chisquare(s_flux,interpolated_flux)\n",
    "                best_r = r\n",
    "                best_log_g = g\n",
    "                best_teff = t\n",
    "                best_met = m\n",
    "            m_wave = s_wave\n",
    "            m_flux = interpolated_flux/Md\n",
    "        else:\n",
    "            interpolated_flux = np.interp(m_wave, s_wave, s_flux)\n",
    "            Md = ((r*const.R_sun)/D)**2\n",
    "            s_flux = np.copy(interpolated_flux)\n",
    "\n",
    "            if(chisquare(s_flux,interpolated_flux)[0] < chi):\n",
    "                chi,p = chisquare(s_flux,interpolated_flux)\n",
    "                best_r = r\n",
    "                best_log_g = g\n",
    "                best_teff = t\n",
    "                best_met = m\n",
    "            interpolated_flux = m_flux*Md\n",
    "            s_wave = m_wave\n",
    "            \n",
    "    return chi,p"
   ]
  },
  {
   "cell_type": "code",
   "execution_count": 41,
   "metadata": {},
   "outputs": [],
   "source": [
    "redchi2 = {}\n",
    "t0,g0,m0,r0 = 6100,3.9,-0.1,3.2#5200,4.5,0.0,0.8\n",
    "fit_arr = {}\n",
    "teff = [t0-100,t0,t0+100]\n",
    "logg = [g0-0.1,g0,g0+0.1]\n",
    "met = [m0-0.1,m0,m0+0.1]\n",
    "rad = [r0-0.1,r0,r0+0.1]\n",
    "redchi2[\"teff\"] = [get_rchi2(t,g0,m0,r0,s_wave,s_flux,s_flux_e)[0] for t in teff]\n",
    "redchi2[\"logg\"] = [get_rchi2(t0,g,m0,r0,s_wave,s_flux,s_flux_e)[0] for g in logg]\n",
    "redchi2[\"met\"] = [get_rchi2(t0,g0,m,r0,s_wave,s_flux,s_flux_e)[0] for m in met]\n",
    "redchi2[\"rad\"] = [get_rchi2(t0,g0,m0,r,s_wave,s_flux,s_flux_e)[0] for r in rad]\n",
    "\n",
    "def get_optimals(teff,redchi2_arr):\n",
    "    tmp = teff[1] - (teff[1]-teff[0])*(((redchi2_arr[2]-redchi2_arr[1])/(redchi2_arr[0]-2*redchi2_arr[1]+redchi2_arr[2]))+0.5)\n",
    "    tmp_err = (teff[1]-teff[0])*np.sqrt(2.0/(redchi2_arr[0]-2*redchi2_arr[1]+redchi2_arr[2]))\n",
    "    return tmp, tmp_err\n",
    "\n",
    "fit_arr[\"teff\"] = get_optimals(teff,redchi2[\"teff\"])\n",
    "fit_arr[\"logg\"] = get_optimals(logg,redchi2[\"logg\"])\n",
    "fit_arr[\"met\"] = get_optimals(met,redchi2[\"met\"])\n",
    "fit_arr[\"rad\"] = get_optimals(rad,redchi2[\"rad\"])"
   ]
  },
  {
   "cell_type": "markdown",
   "metadata": {},
   "source": [
    "# HD11443"
   ]
  },
  {
   "cell_type": "code",
   "execution_count": 42,
   "metadata": {},
   "outputs": [
    {
     "data": {
      "text/plain": [
       "{'teff': [12591.418395375396, 9678.040117380579, 8653.43534694444],\n",
       " 'logg': [9625.936904742073, 9678.040117380579, 9730.972194212502],\n",
       " 'met': [10008.549552747674, 9678.040117380579, 9387.069152832137],\n",
       " 'rad': [16219.43036033776, 9678.040117380579, 11479.17708411826]}"
      ]
     },
     "execution_count": 42,
     "metadata": {},
     "output_type": "execute_result"
    }
   ],
   "source": [
    "redchi2"
   ]
  },
  {
   "cell_type": "code",
   "execution_count": 45,
   "metadata": {},
   "outputs": [
    {
     "data": {
      "text/plain": [
       "{'teff': (6104.247095606528, 3.2540562545638814),\n",
       " 'logg': (-2.5360976565608113, 0.15533642594587935),\n",
       " 'met': (0.5859186092021658, 0.0224908082813641),\n",
       " 'rad': (3.1284101757001817, 0.0015483394594384512)}"
      ]
     },
     "execution_count": 45,
     "metadata": {},
     "output_type": "execute_result"
    }
   ],
   "source": [
    "fit_arr"
   ]
  },
  {
   "cell_type": "code",
   "execution_count": 47,
   "metadata": {},
   "outputs": [
    {
     "name": "stdout",
     "output_type": "stream",
     "text": [
      "None\n"
     ]
    }
   ],
   "source": [
    "print(get_rchi2(fit_arr[\"teff\"][0],fit_arr[\"logg\"][0],fit_arr[\"met\"][0],fit_arr[\"rad\"][0],s_wave,s_flux,s_flux_e))"
   ]
  },
  {
   "cell_type": "markdown",
   "metadata": {},
   "source": [
    "# HD10476"
   ]
  },
  {
   "cell_type": "code",
   "execution_count": 38,
   "metadata": {},
   "outputs": [
    {
     "data": {
      "text/plain": [
       "{'teff': [5834.3754701178295, 3555.104530669988, 3727.683118526266],\n",
       " 'logg': [3553.5720184654388, 3555.104530669988, 3546.7488402537906],\n",
       " 'met': [3626.9863473610535, 3555.104530669988, 3447.89508405743],\n",
       " 'rad': [43601.291359870134, 3555.104530669988, 47159.70336571278]}"
      ]
     },
     "execution_count": 38,
     "metadata": {},
     "output_type": "execute_result"
    }
   ],
   "source": [
    "redchi2"
   ]
  },
  {
   "cell_type": "code",
   "execution_count": 37,
   "metadata": {},
   "outputs": [
    {
     "data": {
      "text/plain": [
       "{'teff': (5142.961289592431, 2.8560650257762688),\n",
       " 'logg': (4.365498389983776, nan),\n",
       " 'met': (-0.35347194773837354, nan),\n",
       " 'rad': (0.6978730552393582, 0.0004889674906246204)}"
      ]
     },
     "execution_count": 37,
     "metadata": {},
     "output_type": "execute_result"
    }
   ],
   "source": [
    "fit_arr"
   ]
  }
 ],
 "metadata": {
  "kernelspec": {
   "display_name": "Python 3",
   "language": "python",
   "name": "python3"
  },
  "language_info": {
   "codemirror_mode": {
    "name": "ipython",
    "version": 3
   },
   "file_extension": ".py",
   "mimetype": "text/x-python",
   "name": "python",
   "nbconvert_exporter": "python",
   "pygments_lexer": "ipython3",
   "version": "3.6.9"
  }
 },
 "nbformat": 4,
 "nbformat_minor": 4
}
